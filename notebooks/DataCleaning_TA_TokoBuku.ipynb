{
 "cells": [
  {
   "cell_type": "markdown",
   "id": "58a8f3ae",
   "metadata": {},
   "source": [
    "# Import library"
   ]
  },
  {
   "cell_type": "code",
   "execution_count": 1,
   "id": "c5798a6a",
   "metadata": {},
   "outputs": [],
   "source": [
    "import pandas as pd"
   ]
  },
  {
   "cell_type": "markdown",
   "id": "a8c3e876",
   "metadata": {},
   "source": [
    "# Load dataset"
   ]
  },
  {
   "cell_type": "code",
   "execution_count": 2,
   "id": "83003dbc",
   "metadata": {},
   "outputs": [
    {
     "data": {
      "text/html": [
       "<div>\n",
       "<style scoped>\n",
       "    .dataframe tbody tr th:only-of-type {\n",
       "        vertical-align: middle;\n",
       "    }\n",
       "\n",
       "    .dataframe tbody tr th {\n",
       "        vertical-align: top;\n",
       "    }\n",
       "\n",
       "    .dataframe thead th {\n",
       "        text-align: right;\n",
       "    }\n",
       "</style>\n",
       "<table border=\"1\" class=\"dataframe\">\n",
       "  <thead>\n",
       "    <tr style=\"text-align: right;\">\n",
       "      <th></th>\n",
       "      <th>id_transaksi</th>\n",
       "      <th>jenis_item</th>\n",
       "      <th>jumlah</th>\n",
       "      <th>tanggal pembelian</th>\n",
       "      <th>nama_customer</th>\n",
       "      <th>total</th>\n",
       "    </tr>\n",
       "  </thead>\n",
       "  <tbody>\n",
       "    <tr>\n",
       "      <th>0</th>\n",
       "      <td>133889.0</td>\n",
       "      <td>Alat Tulis</td>\n",
       "      <td>1</td>\n",
       "      <td>1/1/2010</td>\n",
       "      <td>Stacy Campos</td>\n",
       "      <td>120000.0</td>\n",
       "    </tr>\n",
       "    <tr>\n",
       "      <th>1</th>\n",
       "      <td>133889.0</td>\n",
       "      <td>Buku Sejarah</td>\n",
       "      <td>1</td>\n",
       "      <td>1/1/2010</td>\n",
       "      <td>Stacy Campos</td>\n",
       "      <td>150000.0</td>\n",
       "    </tr>\n",
       "    <tr>\n",
       "      <th>2</th>\n",
       "      <td>133889.0</td>\n",
       "      <td>Buku Anak-Anak</td>\n",
       "      <td>2</td>\n",
       "      <td>1/1/2010</td>\n",
       "      <td>Stacy Campos</td>\n",
       "      <td>400000.0</td>\n",
       "    </tr>\n",
       "    <tr>\n",
       "      <th>3</th>\n",
       "      <td>133889.0</td>\n",
       "      <td>Majalah Fashion</td>\n",
       "      <td>1</td>\n",
       "      <td>1/1/2010</td>\n",
       "      <td>Stacy Campos</td>\n",
       "      <td>130000.0</td>\n",
       "    </tr>\n",
       "    <tr>\n",
       "      <th>4</th>\n",
       "      <td>133889.0</td>\n",
       "      <td>Majalah Berita</td>\n",
       "      <td>2</td>\n",
       "      <td>1/1/2010</td>\n",
       "      <td>Stacy Campos</td>\n",
       "      <td>600000.0</td>\n",
       "    </tr>\n",
       "    <tr>\n",
       "      <th>...</th>\n",
       "      <td>...</td>\n",
       "      <td>...</td>\n",
       "      <td>...</td>\n",
       "      <td>...</td>\n",
       "      <td>...</td>\n",
       "      <td>...</td>\n",
       "    </tr>\n",
       "    <tr>\n",
       "      <th>3235</th>\n",
       "      <td>NaN</td>\n",
       "      <td>NaN</td>\n",
       "      <td>2</td>\n",
       "      <td>4/30/2024</td>\n",
       "      <td>NaN</td>\n",
       "      <td>240000.0</td>\n",
       "    </tr>\n",
       "    <tr>\n",
       "      <th>3236</th>\n",
       "      <td>NaN</td>\n",
       "      <td>NaN</td>\n",
       "      <td>6</td>\n",
       "      <td>4/30/2024</td>\n",
       "      <td>NaN</td>\n",
       "      <td>1800000.0</td>\n",
       "    </tr>\n",
       "    <tr>\n",
       "      <th>3237</th>\n",
       "      <td>NaN</td>\n",
       "      <td>NaN</td>\n",
       "      <td>1</td>\n",
       "      <td>4/30/2024</td>\n",
       "      <td>NaN</td>\n",
       "      <td>90000.0</td>\n",
       "    </tr>\n",
       "    <tr>\n",
       "      <th>3238</th>\n",
       "      <td>NaN</td>\n",
       "      <td>NaN</td>\n",
       "      <td>9</td>\n",
       "      <td>4/30/2024</td>\n",
       "      <td>NaN</td>\n",
       "      <td>180000.0</td>\n",
       "    </tr>\n",
       "    <tr>\n",
       "      <th>3239</th>\n",
       "      <td>NaN</td>\n",
       "      <td>NaN</td>\n",
       "      <td>1</td>\n",
       "      <td>4/30/2024</td>\n",
       "      <td>NaN</td>\n",
       "      <td>100000.0</td>\n",
       "    </tr>\n",
       "  </tbody>\n",
       "</table>\n",
       "<p>3240 rows × 6 columns</p>\n",
       "</div>"
      ],
      "text/plain": [
       "      id_transaksi       jenis_item  jumlah tanggal pembelian nama_customer  \\\n",
       "0         133889.0       Alat Tulis       1          1/1/2010  Stacy Campos   \n",
       "1         133889.0     Buku Sejarah       1          1/1/2010  Stacy Campos   \n",
       "2         133889.0   Buku Anak-Anak       2          1/1/2010  Stacy Campos   \n",
       "3         133889.0  Majalah Fashion       1          1/1/2010  Stacy Campos   \n",
       "4         133889.0   Majalah Berita       2          1/1/2010  Stacy Campos   \n",
       "...            ...              ...     ...               ...           ...   \n",
       "3235           NaN              NaN       2         4/30/2024           NaN   \n",
       "3236           NaN              NaN       6         4/30/2024           NaN   \n",
       "3237           NaN              NaN       1         4/30/2024           NaN   \n",
       "3238           NaN              NaN       9         4/30/2024           NaN   \n",
       "3239           NaN              NaN       1         4/30/2024           NaN   \n",
       "\n",
       "          total  \n",
       "0      120000.0  \n",
       "1      150000.0  \n",
       "2      400000.0  \n",
       "3      130000.0  \n",
       "4      600000.0  \n",
       "...         ...  \n",
       "3235   240000.0  \n",
       "3236  1800000.0  \n",
       "3237    90000.0  \n",
       "3238   180000.0  \n",
       "3239   100000.0  \n",
       "\n",
       "[3240 rows x 6 columns]"
      ]
     },
     "execution_count": 2,
     "metadata": {},
     "output_type": "execute_result"
    }
   ],
   "source": [
    "df = pd.read_csv(\"TokoBuku.csv\")\n",
    "df"
   ]
  },
  {
   "cell_type": "markdown",
   "id": "7110ac1a",
   "metadata": {},
   "source": [
    "# Dataset item type"
   ]
  },
  {
   "cell_type": "code",
   "execution_count": 3,
   "id": "021dfb0f",
   "metadata": {},
   "outputs": [
    {
     "data": {
      "text/plain": [
       "['Alat Tulis',\n",
       " 'Buku Sejarah',\n",
       " 'Buku Anak-Anak',\n",
       " 'Majalah Fashion',\n",
       " 'Majalah Berita',\n",
       " 'Buku Fiksi',\n",
       " 'Novel Romansa',\n",
       " 'Majalah Seni',\n",
       " 'Buku Biografi',\n",
       " 'Aksesoris Buku',\n",
       " 'Novel Fiksi Ilmiah',\n",
       " 'Novel Misteri']"
      ]
     },
     "execution_count": 3,
     "metadata": {},
     "output_type": "execute_result"
    }
   ],
   "source": [
    "# Mengambil daftar item dari kolom 'jenis_item'\n",
    "unique_items_list = df['jenis_item'].dropna().unique().tolist()\n",
    "\n",
    "# Menampilkan daftar item\n",
    "unique_items_list"
   ]
  },
  {
   "cell_type": "markdown",
   "id": "02fe0c26",
   "metadata": {},
   "source": [
    "# Eksplorasi dataset"
   ]
  },
  {
   "cell_type": "code",
   "execution_count": 4,
   "id": "417bb5cb",
   "metadata": {},
   "outputs": [
    {
     "name": "stdout",
     "output_type": "stream",
     "text": [
      "\n",
      "Info Dataset:\n",
      "\n",
      "<class 'pandas.core.frame.DataFrame'>\n",
      "RangeIndex: 3240 entries, 0 to 3239\n",
      "Data columns (total 6 columns):\n",
      " #   Column             Non-Null Count  Dtype  \n",
      "---  ------             --------------  -----  \n",
      " 0   id_transaksi       2469 non-null   float64\n",
      " 1   jenis_item         2469 non-null   object \n",
      " 2   jumlah             3240 non-null   int64  \n",
      " 3   tanggal pembelian  3237 non-null   object \n",
      " 4   nama_customer      2469 non-null   object \n",
      " 5   total              3238 non-null   float64\n",
      "dtypes: float64(2), int64(1), object(3)\n",
      "memory usage: 152.0+ KB\n",
      "\n",
      "Missing Values:\n",
      " id_transaksi         771\n",
      "jenis_item           771\n",
      "jumlah                 0\n",
      "tanggal pembelian      3\n",
      "nama_customer        771\n",
      "total                  2\n",
      "dtype: int64\n",
      "\n",
      "Total nilai Missing Values di seluruh dataset: 2318\n"
     ]
    }
   ],
   "source": [
    "# Menampilkan informasi umum tentang dataset\n",
    "print(\"\\nInfo Dataset:\\n\")\n",
    "df.info()\n",
    "\n",
    "# Menampilkan jumlah missing values (NaN) per kolom\n",
    "print(\"\\nMissing Values:\\n\", df.isnull().sum())\n",
    "\n",
    "# Menghitung total nilai missing values di seluruh dataset\n",
    "total_missingvalues = df.isna().sum().sum()\n",
    "print(\"\\nTotal nilai Missing Values di seluruh dataset:\", total_missingvalues)"
   ]
  },
  {
   "cell_type": "markdown",
   "id": "43b280d1",
   "metadata": {},
   "source": [
    "# Identifikasi nilai yang hilang"
   ]
  },
  {
   "cell_type": "code",
   "execution_count": 5,
   "id": "21bbee59",
   "metadata": {},
   "outputs": [
    {
     "name": "stdout",
     "output_type": "stream",
     "text": [
      "Jumlah baris yang mengandung Missing Values: 776\n",
      "\n",
      "Data yang mengandung Missing Values:\n",
      "      id_transaksi          jenis_item  jumlah tanggal pembelian  \\\n",
      "188       133921.0      Majalah Berita       3         5/30/2013   \n",
      "201       133923.0       Novel Misteri       7               NaN   \n",
      "246       133931.0      Majalah Berita       4               NaN   \n",
      "247       133931.0  Novel Fiksi Ilmiah       4               NaN   \n",
      "251       133932.0      Majalah Berita       9         1/27/2014   \n",
      "...            ...                 ...     ...               ...   \n",
      "3235           NaN                 NaN       2         4/30/2024   \n",
      "3236           NaN                 NaN       6         4/30/2024   \n",
      "3237           NaN                 NaN       1         4/30/2024   \n",
      "3238           NaN                 NaN       9         4/30/2024   \n",
      "3239           NaN                 NaN       1         4/30/2024   \n",
      "\n",
      "         nama_customer      total  \n",
      "188   Michael Buchanan        NaN  \n",
      "201      Angela Conway   140000.0  \n",
      "246    Jaclyn Atkinson  2080000.0  \n",
      "247    Jaclyn Atkinson   400000.0  \n",
      "251    Chad Harrington        NaN  \n",
      "...                ...        ...  \n",
      "3235               NaN   240000.0  \n",
      "3236               NaN  1800000.0  \n",
      "3237               NaN    90000.0  \n",
      "3238               NaN   180000.0  \n",
      "3239               NaN   100000.0  \n",
      "\n",
      "[776 rows x 6 columns]\n"
     ]
    }
   ],
   "source": [
    "# Menyaring semua baris dalam dataset yang memiliki minimal satu nilai kosong (NaN)\n",
    "data_missingvalues = df[df.isna().any(axis=1)]\n",
    "\n",
    "# Menampilkan jumlah baris yang mengandung Missing Values\n",
    "print(\"Jumlah baris yang mengandung Missing Values:\", len(data_missingvalues))\n",
    "\n",
    "# Menampilkan isi dari baris-baris tersebut\n",
    "print(\"\\nData yang mengandung Missing Values:\")\n",
    "print(data_missingvalues)"
   ]
  },
  {
   "cell_type": "markdown",
   "id": "1183de55",
   "metadata": {},
   "source": [
    "# Pembersihan data"
   ]
  },
  {
   "cell_type": "code",
   "execution_count": 6,
   "id": "f0ac964f",
   "metadata": {},
   "outputs": [
    {
     "name": "stdout",
     "output_type": "stream",
     "text": [
      "Jumlah data setelah menghapus Missing Values: (2464, 6)\n"
     ]
    }
   ],
   "source": [
    "# Menghapus semua baris yang memiliki nilai kosong (NaN) dari DataFrame\n",
    "df_bersih = df.dropna()\n",
    "\n",
    "# Menampilkan jumlah data (baris, kolom) setelah penghapusan missing values\n",
    "print(\"Jumlah data setelah menghapus Missing Values:\", df_bersih.shape)"
   ]
  },
  {
   "cell_type": "markdown",
   "id": "4ac0041e",
   "metadata": {},
   "source": [
    "# Menyimpan DataFrame"
   ]
  },
  {
   "cell_type": "code",
   "execution_count": 7,
   "id": "698e1c43",
   "metadata": {},
   "outputs": [
    {
     "name": "stdout",
     "output_type": "stream",
     "text": [
      "\n",
      "Dataset bersih sudah disimpan sebagai 'TokoBuku_Bersih.csv'\n"
     ]
    }
   ],
   "source": [
    "df_bersih.to_csv('TokoBuku_Bersih.csv', index=False)\n",
    "print(\"\\nDataset bersih sudah disimpan sebagai 'TokoBuku_Bersih.csv'\")"
   ]
  },
  {
   "cell_type": "code",
   "execution_count": null,
   "id": "b63ece15",
   "metadata": {},
   "outputs": [],
   "source": []
  }
 ],
 "metadata": {
  "kernelspec": {
   "display_name": "Python 3 (ipykernel)",
   "language": "python",
   "name": "python3"
  },
  "language_info": {
   "codemirror_mode": {
    "name": "ipython",
    "version": 3
   },
   "file_extension": ".py",
   "mimetype": "text/x-python",
   "name": "python",
   "nbconvert_exporter": "python",
   "pygments_lexer": "ipython3",
   "version": "3.10.9"
  }
 },
 "nbformat": 4,
 "nbformat_minor": 5
}
