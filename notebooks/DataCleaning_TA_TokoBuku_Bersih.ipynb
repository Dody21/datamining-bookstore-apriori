{
 "cells": [
  {
   "cell_type": "markdown",
   "id": "c877a455",
   "metadata": {},
   "source": [
    "# Import library"
   ]
  },
  {
   "cell_type": "code",
   "execution_count": 1,
   "id": "b1c4d579",
   "metadata": {},
   "outputs": [],
   "source": [
    "import pandas as pd"
   ]
  },
  {
   "cell_type": "markdown",
   "id": "0c3882ad",
   "metadata": {},
   "source": [
    "# Load dataset"
   ]
  },
  {
   "cell_type": "code",
   "execution_count": 2,
   "id": "bdb057f3",
   "metadata": {},
   "outputs": [
    {
     "data": {
      "text/html": [
       "<div>\n",
       "<style scoped>\n",
       "    .dataframe tbody tr th:only-of-type {\n",
       "        vertical-align: middle;\n",
       "    }\n",
       "\n",
       "    .dataframe tbody tr th {\n",
       "        vertical-align: top;\n",
       "    }\n",
       "\n",
       "    .dataframe thead th {\n",
       "        text-align: right;\n",
       "    }\n",
       "</style>\n",
       "<table border=\"1\" class=\"dataframe\">\n",
       "  <thead>\n",
       "    <tr style=\"text-align: right;\">\n",
       "      <th></th>\n",
       "      <th>id_transaksi</th>\n",
       "      <th>jenis_item</th>\n",
       "      <th>jumlah</th>\n",
       "      <th>tanggal pembelian</th>\n",
       "      <th>nama_customer</th>\n",
       "      <th>total</th>\n",
       "    </tr>\n",
       "  </thead>\n",
       "  <tbody>\n",
       "    <tr>\n",
       "      <th>0</th>\n",
       "      <td>133889.0</td>\n",
       "      <td>Alat Tulis</td>\n",
       "      <td>1</td>\n",
       "      <td>1/1/2010</td>\n",
       "      <td>Stacy Campos</td>\n",
       "      <td>120000.0</td>\n",
       "    </tr>\n",
       "    <tr>\n",
       "      <th>1</th>\n",
       "      <td>133889.0</td>\n",
       "      <td>Buku Sejarah</td>\n",
       "      <td>1</td>\n",
       "      <td>1/1/2010</td>\n",
       "      <td>Stacy Campos</td>\n",
       "      <td>150000.0</td>\n",
       "    </tr>\n",
       "    <tr>\n",
       "      <th>2</th>\n",
       "      <td>133889.0</td>\n",
       "      <td>Buku Anak-Anak</td>\n",
       "      <td>2</td>\n",
       "      <td>1/1/2010</td>\n",
       "      <td>Stacy Campos</td>\n",
       "      <td>400000.0</td>\n",
       "    </tr>\n",
       "    <tr>\n",
       "      <th>3</th>\n",
       "      <td>133889.0</td>\n",
       "      <td>Majalah Fashion</td>\n",
       "      <td>1</td>\n",
       "      <td>1/1/2010</td>\n",
       "      <td>Stacy Campos</td>\n",
       "      <td>130000.0</td>\n",
       "    </tr>\n",
       "    <tr>\n",
       "      <th>4</th>\n",
       "      <td>133889.0</td>\n",
       "      <td>Majalah Berita</td>\n",
       "      <td>2</td>\n",
       "      <td>1/1/2010</td>\n",
       "      <td>Stacy Campos</td>\n",
       "      <td>600000.0</td>\n",
       "    </tr>\n",
       "    <tr>\n",
       "      <th>...</th>\n",
       "      <td>...</td>\n",
       "      <td>...</td>\n",
       "      <td>...</td>\n",
       "      <td>...</td>\n",
       "      <td>...</td>\n",
       "      <td>...</td>\n",
       "    </tr>\n",
       "    <tr>\n",
       "      <th>2459</th>\n",
       "      <td>134294.0</td>\n",
       "      <td>Alat Tulis</td>\n",
       "      <td>3</td>\n",
       "      <td>4/30/2024</td>\n",
       "      <td>Richard Jones</td>\n",
       "      <td>180000.0</td>\n",
       "    </tr>\n",
       "    <tr>\n",
       "      <th>2460</th>\n",
       "      <td>134294.0</td>\n",
       "      <td>Buku Sejarah</td>\n",
       "      <td>4</td>\n",
       "      <td>4/30/2024</td>\n",
       "      <td>Richard Jones</td>\n",
       "      <td>2400000.0</td>\n",
       "    </tr>\n",
       "    <tr>\n",
       "      <th>2461</th>\n",
       "      <td>134294.0</td>\n",
       "      <td>Buku Anak-Anak</td>\n",
       "      <td>2</td>\n",
       "      <td>4/30/2024</td>\n",
       "      <td>Richard Jones</td>\n",
       "      <td>80000.0</td>\n",
       "    </tr>\n",
       "    <tr>\n",
       "      <th>2462</th>\n",
       "      <td>134294.0</td>\n",
       "      <td>Majalah Fashion</td>\n",
       "      <td>9</td>\n",
       "      <td>4/30/2024</td>\n",
       "      <td>Richard Jones</td>\n",
       "      <td>1620000.0</td>\n",
       "    </tr>\n",
       "    <tr>\n",
       "      <th>2463</th>\n",
       "      <td>134294.0</td>\n",
       "      <td>Majalah Berita</td>\n",
       "      <td>4</td>\n",
       "      <td>4/30/2024</td>\n",
       "      <td>Richard Jones</td>\n",
       "      <td>320000.0</td>\n",
       "    </tr>\n",
       "  </tbody>\n",
       "</table>\n",
       "<p>2464 rows × 6 columns</p>\n",
       "</div>"
      ],
      "text/plain": [
       "      id_transaksi       jenis_item  jumlah tanggal pembelian  nama_customer  \\\n",
       "0         133889.0       Alat Tulis       1          1/1/2010   Stacy Campos   \n",
       "1         133889.0     Buku Sejarah       1          1/1/2010   Stacy Campos   \n",
       "2         133889.0   Buku Anak-Anak       2          1/1/2010   Stacy Campos   \n",
       "3         133889.0  Majalah Fashion       1          1/1/2010   Stacy Campos   \n",
       "4         133889.0   Majalah Berita       2          1/1/2010   Stacy Campos   \n",
       "...            ...              ...     ...               ...            ...   \n",
       "2459      134294.0       Alat Tulis       3         4/30/2024  Richard Jones   \n",
       "2460      134294.0     Buku Sejarah       4         4/30/2024  Richard Jones   \n",
       "2461      134294.0   Buku Anak-Anak       2         4/30/2024  Richard Jones   \n",
       "2462      134294.0  Majalah Fashion       9         4/30/2024  Richard Jones   \n",
       "2463      134294.0   Majalah Berita       4         4/30/2024  Richard Jones   \n",
       "\n",
       "          total  \n",
       "0      120000.0  \n",
       "1      150000.0  \n",
       "2      400000.0  \n",
       "3      130000.0  \n",
       "4      600000.0  \n",
       "...         ...  \n",
       "2459   180000.0  \n",
       "2460  2400000.0  \n",
       "2461    80000.0  \n",
       "2462  1620000.0  \n",
       "2463   320000.0  \n",
       "\n",
       "[2464 rows x 6 columns]"
      ]
     },
     "execution_count": 2,
     "metadata": {},
     "output_type": "execute_result"
    }
   ],
   "source": [
    "df = pd.read_csv(\"TokoBuku_Bersih.csv\")\n",
    "df"
   ]
  },
  {
   "cell_type": "markdown",
   "id": "efd1e78c",
   "metadata": {},
   "source": [
    "# Memeriksa nilai yang hilang"
   ]
  },
  {
   "cell_type": "code",
   "execution_count": 3,
   "id": "bc6e480d",
   "metadata": {},
   "outputs": [
    {
     "name": "stdout",
     "output_type": "stream",
     "text": [
      "\n",
      "Tidak ada data Missing Values.\n"
     ]
    }
   ],
   "source": [
    "# Mengecek apakah ada data yang mengandung nilai kosong (NaN) di dalam DataFrame\n",
    "if df.isna().values.any():\n",
    "    print(\"\\nTerdapat data Missing Values.\")\n",
    "    \n",
    "    # Menampilkan jumlah missing values per kolom\n",
    "    print(\"\\nJumlah Missing Values per Kolom:\")\n",
    "    print(df.isna().sum())\n",
    "\n",
    "    # Menampilkan baris-baris yang mengandung missing values\n",
    "    print(\"\\nBaris yang mengandung Missing Vales:\")\n",
    "    print(df[df.isna().any(axis=1)])\n",
    "else:\n",
    "    print(\"\\nTidak ada data Missing Values.\")"
   ]
  },
  {
   "cell_type": "markdown",
   "id": "167c152f",
   "metadata": {},
   "source": [
    "# "
   ]
  }
 ],
 "metadata": {
  "kernelspec": {
   "display_name": "Python 3 (ipykernel)",
   "language": "python",
   "name": "python3"
  },
  "language_info": {
   "codemirror_mode": {
    "name": "ipython",
    "version": 3
   },
   "file_extension": ".py",
   "mimetype": "text/x-python",
   "name": "python",
   "nbconvert_exporter": "python",
   "pygments_lexer": "ipython3",
   "version": "3.10.9"
  }
 },
 "nbformat": 4,
 "nbformat_minor": 5
}
