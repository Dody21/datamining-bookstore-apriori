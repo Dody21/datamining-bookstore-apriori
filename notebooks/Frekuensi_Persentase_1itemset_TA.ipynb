{
 "cells": [
  {
   "cell_type": "markdown",
   "id": "8c063fc4",
   "metadata": {},
   "source": [
    "# Import library"
   ]
  },
  {
   "cell_type": "code",
   "execution_count": 1,
   "id": "2679bf5c",
   "metadata": {},
   "outputs": [],
   "source": [
    "import pandas as pd"
   ]
  },
  {
   "cell_type": "markdown",
   "id": "5acad09b",
   "metadata": {},
   "source": [
    "# Load dataset"
   ]
  },
  {
   "cell_type": "code",
   "execution_count": 2,
   "id": "a0450087",
   "metadata": {},
   "outputs": [],
   "source": [
    "file_path = \"DataTransformasiTA_tanpa_tanggal.csv\"\n",
    "df = pd.read_csv(file_path)"
   ]
  },
  {
   "cell_type": "markdown",
   "id": "aed35c21",
   "metadata": {},
   "source": [
    "# Perhitungan frekuensi dan persentase kombinasi 1 itemset"
   ]
  },
  {
   "cell_type": "code",
   "execution_count": 3,
   "id": "c2df2f55",
   "metadata": {},
   "outputs": [
    {
     "name": "stdout",
     "output_type": "stream",
     "text": [
      "                    Frekuensi  Persentase (%)\n",
      "Alat Tulis                282           58.63\n",
      "Aksesoris Buku            231           48.02\n",
      "Majalah Seni              207           43.04\n",
      "Buku Biografi             201           41.79\n",
      "Novel Romansa             201           41.79\n",
      "Majalah Fashion           198           41.16\n",
      "Majalah Berita            197           40.96\n",
      "Buku Anak-Anak            195           40.54\n",
      "Novel Misteri             195           40.54\n",
      "Buku Sejarah              191           39.71\n",
      "Buku Fiksi                184           38.25\n",
      "Novel Fiksi Ilmiah        182           37.84\n"
     ]
    }
   ],
   "source": [
    "# Menghitung frekuensi kemunculan masing-masing item\n",
    "frekuensi = df.drop(columns=\"transaksi\").sum().sort_values(ascending=False)\n",
    "\n",
    "# Menghitung persentase kemunculan dari total transaksi\n",
    "persentase = (frekuensi / len(df)) * 100\n",
    "\n",
    "# Gabungkan ke dalam satu DataFrame\n",
    "hasil = pd.DataFrame({\n",
    "    \"Frekuensi\": frekuensi,\n",
    "    \"Persentase (%)\": persentase\n",
    "})\n",
    "\n",
    "# Tampilkan hasil\n",
    "print(hasil.round(2))\n"
   ]
  },
  {
   "cell_type": "markdown",
   "id": "ab2ceb57",
   "metadata": {},
   "source": [
    "# Menyimpan hasil ke file"
   ]
  },
  {
   "cell_type": "code",
   "execution_count": 4,
   "id": "3db3bc9b",
   "metadata": {},
   "outputs": [
    {
     "name": "stdout",
     "output_type": "stream",
     "text": [
      "\n",
      "Dataset frekuensi dan persentase 1 itemset sudah disimpan sebagai 'hasil_1itemset.csv'\n"
     ]
    }
   ],
   "source": [
    "hasil.round(2).to_csv(\"hasil_1itemset.csv\", index_label=\"Item\")\n",
    "print(\"\\nDataset frekuensi dan persentase 1 itemset sudah disimpan sebagai 'hasil_1itemset.csv'\")"
   ]
  },
  {
   "cell_type": "code",
   "execution_count": null,
   "id": "0824d74e",
   "metadata": {},
   "outputs": [],
   "source": []
  }
 ],
 "metadata": {
  "kernelspec": {
   "display_name": "Python 3 (ipykernel)",
   "language": "python",
   "name": "python3"
  },
  "language_info": {
   "codemirror_mode": {
    "name": "ipython",
    "version": 3
   },
   "file_extension": ".py",
   "mimetype": "text/x-python",
   "name": "python",
   "nbconvert_exporter": "python",
   "pygments_lexer": "ipython3",
   "version": "3.10.9"
  }
 },
 "nbformat": 4,
 "nbformat_minor": 5
}
