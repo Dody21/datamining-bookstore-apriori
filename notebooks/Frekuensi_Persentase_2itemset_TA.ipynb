{
 "cells": [
  {
   "cell_type": "markdown",
   "id": "2f956421",
   "metadata": {},
   "source": [
    "# Import library"
   ]
  },
  {
   "cell_type": "code",
   "execution_count": 1,
   "id": "febcbc33",
   "metadata": {},
   "outputs": [],
   "source": [
    "import pandas as pd"
   ]
  },
  {
   "cell_type": "markdown",
   "id": "49379032",
   "metadata": {},
   "source": [
    "# Load dataset"
   ]
  },
  {
   "cell_type": "code",
   "execution_count": 2,
   "id": "c414a0f5",
   "metadata": {},
   "outputs": [],
   "source": [
    "df = pd.read_csv(\"DataTransformasiTA_tanpa_tanggal.csv\")"
   ]
  },
  {
   "cell_type": "markdown",
   "id": "2ad31312",
   "metadata": {},
   "source": [
    "# Perhitungan frekuensi dan persentase kombinasi 2 itemset"
   ]
  },
  {
   "cell_type": "code",
   "execution_count": 3,
   "id": "2e88a412",
   "metadata": {},
   "outputs": [
    {
     "name": "stdout",
     "output_type": "stream",
     "text": [
      "                            Itemset  Frekuensi  Persentase (%)\n",
      "         Alat Tulis, Aksesoris Buku        139           28.90\n",
      "           Alat Tulis, Majalah Seni        129           26.82\n",
      "          Alat Tulis, Buku Biografi        117           24.32\n",
      "          Alat Tulis, Novel Romansa        120           24.95\n",
      "        Alat Tulis, Majalah Fashion        118           24.53\n",
      "         Alat Tulis, Majalah Berita        119           24.74\n",
      "         Alat Tulis, Buku Anak-Anak        162           33.68\n",
      "          Alat Tulis, Novel Misteri        115           23.91\n",
      "           Alat Tulis, Buku Sejarah        125           25.99\n",
      "             Alat Tulis, Buku Fiksi        113           23.49\n",
      "     Alat Tulis, Novel Fiksi Ilmiah        108           22.45\n",
      "       Aksesoris Buku, Majalah Seni        103           21.41\n",
      "      Aksesoris Buku, Buku Biografi        101           21.00\n",
      "      Aksesoris Buku, Novel Romansa        110           22.87\n",
      "    Aksesoris Buku, Majalah Fashion         97           20.17\n",
      "     Aksesoris Buku, Majalah Berita         89           18.50\n",
      "     Aksesoris Buku, Buku Anak-Anak        109           22.66\n",
      "      Aksesoris Buku, Novel Misteri         97           20.17\n",
      "       Aksesoris Buku, Buku Sejarah         83           17.26\n",
      "         Aksesoris Buku, Buku Fiksi         99           20.58\n",
      " Aksesoris Buku, Novel Fiksi Ilmiah         89           18.50\n",
      "        Majalah Seni, Buku Biografi         99           20.58\n",
      "        Majalah Seni, Novel Romansa         93           19.33\n",
      "      Majalah Seni, Majalah Fashion        110           22.87\n",
      "       Majalah Seni, Majalah Berita         91           18.92\n",
      "       Majalah Seni, Buku Anak-Anak         82           17.05\n",
      "        Majalah Seni, Novel Misteri         90           18.71\n",
      "         Majalah Seni, Buku Sejarah         90           18.71\n",
      "           Majalah Seni, Buku Fiksi         80           16.63\n",
      "   Majalah Seni, Novel Fiksi Ilmiah         80           16.63\n",
      "       Buku Biografi, Novel Romansa         92           19.13\n",
      "     Buku Biografi, Majalah Fashion         91           18.92\n",
      "      Buku Biografi, Majalah Berita         83           17.26\n",
      "      Buku Biografi, Buku Anak-Anak         81           16.84\n",
      "       Buku Biografi, Novel Misteri         93           19.33\n",
      "        Buku Biografi, Buku Sejarah         78           16.22\n",
      "          Buku Biografi, Buku Fiksi         91           18.92\n",
      "  Buku Biografi, Novel Fiksi Ilmiah         88           18.30\n",
      "     Novel Romansa, Majalah Fashion         83           17.26\n",
      "      Novel Romansa, Majalah Berita         86           17.88\n",
      "      Novel Romansa, Buku Anak-Anak         78           16.22\n",
      "       Novel Romansa, Novel Misteri         94           19.54\n",
      "        Novel Romansa, Buku Sejarah         85           17.67\n",
      "          Novel Romansa, Buku Fiksi         87           18.09\n",
      "  Novel Romansa, Novel Fiksi Ilmiah         80           16.63\n",
      "    Majalah Fashion, Majalah Berita         93           19.33\n",
      "    Majalah Fashion, Buku Anak-Anak         76           15.80\n",
      "     Majalah Fashion, Novel Misteri         88           18.30\n",
      "      Majalah Fashion, Buku Sejarah         79           16.42\n",
      "        Majalah Fashion, Buku Fiksi         77           16.01\n",
      "Majalah Fashion, Novel Fiksi Ilmiah         86           17.88\n",
      "     Majalah Berita, Buku Anak-Anak         85           17.67\n",
      "      Majalah Berita, Novel Misteri         88           18.30\n",
      "       Majalah Berita, Buku Sejarah         84           17.46\n",
      "         Majalah Berita, Buku Fiksi         87           18.09\n",
      " Majalah Berita, Novel Fiksi Ilmiah         86           17.88\n",
      "      Buku Anak-Anak, Novel Misteri         76           15.80\n",
      "       Buku Anak-Anak, Buku Sejarah         75           15.59\n",
      "         Buku Anak-Anak, Buku Fiksi         74           15.38\n",
      " Buku Anak-Anak, Novel Fiksi Ilmiah         75           15.59\n",
      "        Novel Misteri, Buku Sejarah         69           14.35\n",
      "          Novel Misteri, Buku Fiksi         86           17.88\n",
      "  Novel Misteri, Novel Fiksi Ilmiah         85           17.67\n",
      "           Buku Sejarah, Buku Fiksi         76           15.80\n",
      "   Buku Sejarah, Novel Fiksi Ilmiah         65           13.51\n",
      "     Buku Fiksi, Novel Fiksi Ilmiah         77           16.01\n"
     ]
    }
   ],
   "source": [
    "# Daftar kombinasi 2-itemset yang ingin dihitung\n",
    "itemsets = [\n",
    "    (\"Alat Tulis\", \"Aksesoris Buku\"),\n",
    "    (\"Alat Tulis\", \"Majalah Seni\"),\n",
    "    (\"Alat Tulis\", \"Buku Biografi\"),\n",
    "    (\"Alat Tulis\", \"Novel Romansa\"),\n",
    "    (\"Alat Tulis\", \"Majalah Fashion\"),\n",
    "    (\"Alat Tulis\", \"Majalah Berita\"),\n",
    "    (\"Alat Tulis\", \"Buku Anak-Anak\"),\n",
    "    (\"Alat Tulis\", \"Novel Misteri\"),\n",
    "    (\"Alat Tulis\", \"Buku Sejarah\"),\n",
    "    (\"Alat Tulis\", \"Buku Fiksi\"),\n",
    "    (\"Alat Tulis\", \"Novel Fiksi Ilmiah\"),\n",
    "    (\"Aksesoris Buku\", \"Majalah Seni\"),\n",
    "    (\"Aksesoris Buku\", \"Buku Biografi\"),\n",
    "    (\"Aksesoris Buku\", \"Novel Romansa\"),\n",
    "    (\"Aksesoris Buku\", \"Majalah Fashion\"),\n",
    "    (\"Aksesoris Buku\", \"Majalah Berita\"),\n",
    "    (\"Aksesoris Buku\", \"Buku Anak-Anak\"),\n",
    "    (\"Aksesoris Buku\", \"Novel Misteri\"),\n",
    "    (\"Aksesoris Buku\", \"Buku Sejarah\"),\n",
    "    (\"Aksesoris Buku\", \"Buku Fiksi\"),\n",
    "    (\"Aksesoris Buku\", \"Novel Fiksi Ilmiah\"),\n",
    "    (\"Majalah Seni\", \"Buku Biografi\"),\n",
    "    (\"Majalah Seni\", \"Novel Romansa\"),\n",
    "    (\"Majalah Seni\", \"Majalah Fashion\"),\n",
    "    (\"Majalah Seni\", \"Majalah Berita\"),\n",
    "    (\"Majalah Seni\", \"Buku Anak-Anak\"),\n",
    "    (\"Majalah Seni\", \"Novel Misteri\"),\n",
    "    (\"Majalah Seni\", \"Buku Sejarah\"),\n",
    "    (\"Majalah Seni\", \"Buku Fiksi\"),\n",
    "    (\"Majalah Seni\", \"Novel Fiksi Ilmiah\"),\n",
    "    (\"Buku Biografi\", \"Novel Romansa\"),\n",
    "    (\"Buku Biografi\", \"Majalah Fashion\"),\n",
    "    (\"Buku Biografi\", \"Majalah Berita\"),\n",
    "    (\"Buku Biografi\", \"Buku Anak-Anak\"),\n",
    "    (\"Buku Biografi\", \"Novel Misteri\"),\n",
    "    (\"Buku Biografi\", \"Buku Sejarah\"),\n",
    "    (\"Buku Biografi\", \"Buku Fiksi\"),\n",
    "    (\"Buku Biografi\", \"Novel Fiksi Ilmiah\"),\n",
    "    (\"Novel Romansa\", \"Majalah Fashion\"),\n",
    "    (\"Novel Romansa\", \"Majalah Berita\"),\n",
    "    (\"Novel Romansa\", \"Buku Anak-Anak\"),\n",
    "    (\"Novel Romansa\", \"Novel Misteri\"),\n",
    "    (\"Novel Romansa\", \"Buku Sejarah\"),\n",
    "    (\"Novel Romansa\", \"Buku Fiksi\"),\n",
    "    (\"Novel Romansa\", \"Novel Fiksi Ilmiah\"),\n",
    "    (\"Majalah Fashion\", \"Majalah Berita\"),\n",
    "    (\"Majalah Fashion\", \"Buku Anak-Anak\"),\n",
    "    (\"Majalah Fashion\", \"Novel Misteri\"),\n",
    "    (\"Majalah Fashion\", \"Buku Sejarah\"),\n",
    "    (\"Majalah Fashion\", \"Buku Fiksi\"),\n",
    "    (\"Majalah Fashion\", \"Novel Fiksi Ilmiah\"),\n",
    "    (\"Majalah Berita\", \"Buku Anak-Anak\"),\n",
    "    (\"Majalah Berita\", \"Novel Misteri\"),\n",
    "    (\"Majalah Berita\", \"Buku Sejarah\"),\n",
    "    (\"Majalah Berita\", \"Buku Fiksi\"),\n",
    "    (\"Majalah Berita\", \"Novel Fiksi Ilmiah\"),\n",
    "    (\"Buku Anak-Anak\", \"Novel Misteri\"),\n",
    "    (\"Buku Anak-Anak\", \"Buku Sejarah\"),\n",
    "    (\"Buku Anak-Anak\", \"Buku Fiksi\"),\n",
    "    (\"Buku Anak-Anak\", \"Novel Fiksi Ilmiah\"),\n",
    "    (\"Novel Misteri\", \"Buku Sejarah\"),\n",
    "    (\"Novel Misteri\", \"Buku Fiksi\"),\n",
    "    (\"Novel Misteri\", \"Novel Fiksi Ilmiah\"),\n",
    "    (\"Buku Sejarah\", \"Buku Fiksi\"),\n",
    "    (\"Buku Sejarah\", \"Novel Fiksi Ilmiah\"),\n",
    "    (\"Buku Fiksi\", \"Novel Fiksi Ilmiah\")\n",
    "]\n",
    "\n",
    "# Hitung frekuensi dan persentase untuk tiap kombinasi\n",
    "total_transaksi = len(df)\n",
    "results = []\n",
    "\n",
    "for item1, item2 in itemsets:\n",
    "    if item1 in df.columns and item2 in df.columns:\n",
    "        freq = ((df[item1] == 1) & (df[item2] == 1)).sum()\n",
    "        percent = (freq / total_transaksi) * 100\n",
    "        results.append({\n",
    "            \"Itemset\": f\"{item1}, {item2}\",\n",
    "            \"Frekuensi\": freq,\n",
    "            \"Persentase (%)\": round(percent, 2)\n",
    "        })\n",
    "\n",
    "# Tampilkan hasil dalam DataFrame\n",
    "hasil_df = pd.DataFrame(results)\n",
    "hasil_df.sort_values(by=\"Itemset\").reset_index(drop=True, inplace=True)\n",
    "\n",
    "# Tampilkan hasil\n",
    "print(hasil_df.to_string(index=False))\n"
   ]
  },
  {
   "cell_type": "markdown",
   "id": "9f7ce838",
   "metadata": {},
   "source": [
    "# Menyimpan hasil ke file"
   ]
  },
  {
   "cell_type": "code",
   "execution_count": 4,
   "id": "787983e4",
   "metadata": {},
   "outputs": [
    {
     "name": "stdout",
     "output_type": "stream",
     "text": [
      "\n",
      "Dataset frekuensi dan persentase 2 itemset sudah disimpan sebagai 'hasil_2itemset.csv'\n"
     ]
    }
   ],
   "source": [
    "hasil_df.to_csv(\"hasil_2itemset.csv\", index=False)\n",
    "print(\"\\nDataset frekuensi dan persentase 2 itemset sudah disimpan sebagai 'hasil_2itemset.csv'\")"
   ]
  },
  {
   "cell_type": "code",
   "execution_count": null,
   "id": "96b01d2a",
   "metadata": {},
   "outputs": [],
   "source": []
  }
 ],
 "metadata": {
  "kernelspec": {
   "display_name": "Python 3 (ipykernel)",
   "language": "python",
   "name": "python3"
  },
  "language_info": {
   "codemirror_mode": {
    "name": "ipython",
    "version": 3
   },
   "file_extension": ".py",
   "mimetype": "text/x-python",
   "name": "python",
   "nbconvert_exporter": "python",
   "pygments_lexer": "ipython3",
   "version": "3.10.9"
  }
 },
 "nbformat": 4,
 "nbformat_minor": 5
}
