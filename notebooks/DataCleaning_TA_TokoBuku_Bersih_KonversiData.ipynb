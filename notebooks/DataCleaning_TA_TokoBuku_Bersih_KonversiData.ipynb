{
 "cells": [
  {
   "cell_type": "markdown",
   "id": "8be2bf63",
   "metadata": {},
   "source": [
    "# Import library"
   ]
  },
  {
   "cell_type": "code",
   "execution_count": 1,
   "id": "ea3472b1",
   "metadata": {},
   "outputs": [],
   "source": [
    "import pandas as pd"
   ]
  },
  {
   "cell_type": "markdown",
   "id": "1fd96b2d",
   "metadata": {},
   "source": [
    "# Load dataset"
   ]
  },
  {
   "cell_type": "code",
   "execution_count": 2,
   "id": "f8011d41",
   "metadata": {},
   "outputs": [],
   "source": [
    "df = pd.read_csv(\"TokoBuku_Bersih.csv\")"
   ]
  },
  {
   "cell_type": "markdown",
   "id": "f40d7e77",
   "metadata": {},
   "source": [
    "# Mengelompokkan data berdasarkan tanggal pembelian dari setiap customer"
   ]
  },
  {
   "cell_type": "code",
   "execution_count": 3,
   "id": "4a86d49b",
   "metadata": {},
   "outputs": [
    {
     "name": "stdout",
     "output_type": "stream",
     "text": [
      "    tanggal pembelian                                         jenis_item\n",
      "0          2010-01-01  [Alat Tulis, Buku Sejarah, Buku Anak-Anak, Maj...\n",
      "1          2010-03-03                         [Alat Tulis, Majalah Seni]\n",
      "2          2010-05-01  [Majalah Berita, Buku Biografi, Novel Romansa,...\n",
      "3          2010-05-01  [Novel Fiksi Ilmiah, Majalah Berita, Novel Mis...\n",
      "4          2010-05-01  [Buku Anak-Anak, Majalah Seni, Novel Fiksi Ilm...\n",
      "..                ...                                                ...\n",
      "476        2024-04-30  [Majalah Fashion, Majalah Berita, Novel Fiksi ...\n",
      "477        2024-04-30  [Alat Tulis, Buku Anak-Anak, Majalah Fashion, ...\n",
      "478        2024-04-30  [Alat Tulis, Buku Sejarah, Buku Anak-Anak, Maj...\n",
      "479        2024-04-30  [Alat Tulis, Majalah Seni, Majalah Berita, Nov...\n",
      "480        2024-04-30  [Buku Sejarah, Buku Anak-Anak, Majalah Berita,...\n",
      "\n",
      "[481 rows x 2 columns]\n"
     ]
    }
   ],
   "source": [
    "# Mengelompokkan berdasarkan tanggal pembelian dan nama customer,\n",
    "# lalu menggabungkan item yang dibeli menjadi list\n",
    "grouped = (\n",
    "    df.groupby([\"tanggal pembelian\", \"nama_customer\"])[\"jenis_item\"]\n",
    "    .apply(list)\n",
    "    .reset_index()\n",
    ")\n",
    "\n",
    "# Menghapus kolom nama_customer\n",
    "result = grouped.drop(columns=[\"nama_customer\"])\n",
    "\n",
    "# Mengonversi kolom tanggal pembelian ke datetime\n",
    "result[\"tanggal pembelian\"] = pd.to_datetime(result[\"tanggal pembelian\"])\n",
    "\n",
    "# Mengurutkan berdasarkan tanggal secara ascending\n",
    "result_sorted = result.sort_values(\"tanggal pembelian\").reset_index(drop=True)\n",
    "\n",
    "# Menampilkan hasil\n",
    "print(result_sorted)"
   ]
  },
  {
   "cell_type": "markdown",
   "id": "4f796179",
   "metadata": {},
   "source": [
    "# Menyimpan hasil ke file"
   ]
  },
  {
   "cell_type": "code",
   "execution_count": 4,
   "id": "d5e6d8cd",
   "metadata": {},
   "outputs": [
    {
     "name": "stdout",
     "output_type": "stream",
     "text": [
      "\n",
      "Dataset bersih sudah disimpan sebagai 'DataCleaningTA.csv'\n"
     ]
    }
   ],
   "source": [
    "result_sorted.to_csv(\"DataCleaningTA.csv\", index=False)\n",
    "print(\"\\nDataset bersih sudah disimpan sebagai 'DataCleaningTA.csv'\")"
   ]
  },
  {
   "cell_type": "code",
   "execution_count": null,
   "id": "a0614b62",
   "metadata": {},
   "outputs": [],
   "source": []
  }
 ],
 "metadata": {
  "kernelspec": {
   "display_name": "Python 3 (ipykernel)",
   "language": "python",
   "name": "python3"
  },
  "language_info": {
   "codemirror_mode": {
    "name": "ipython",
    "version": 3
   },
   "file_extension": ".py",
   "mimetype": "text/x-python",
   "name": "python",
   "nbconvert_exporter": "python",
   "pygments_lexer": "ipython3",
   "version": "3.10.9"
  }
 },
 "nbformat": 4,
 "nbformat_minor": 5
}
