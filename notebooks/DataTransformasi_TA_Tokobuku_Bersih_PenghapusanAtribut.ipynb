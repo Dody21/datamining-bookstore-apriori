{
 "cells": [
  {
   "cell_type": "markdown",
   "id": "1ac943f9",
   "metadata": {},
   "source": [
    "# Import library"
   ]
  },
  {
   "cell_type": "code",
   "execution_count": 1,
   "id": "1bb73cf1",
   "metadata": {},
   "outputs": [],
   "source": [
    "import pandas as pd"
   ]
  },
  {
   "cell_type": "markdown",
   "id": "58c195fe",
   "metadata": {},
   "source": [
    "# Load dataset"
   ]
  },
  {
   "cell_type": "code",
   "execution_count": 2,
   "id": "27304b2c",
   "metadata": {},
   "outputs": [],
   "source": [
    "df = pd.read_csv('DataTransformasiTA.csv')"
   ]
  },
  {
   "cell_type": "markdown",
   "id": "841b46fe",
   "metadata": {},
   "source": [
    "# Menampilkan kolom tanggal pembelian"
   ]
  },
  {
   "cell_type": "code",
   "execution_count": 3,
   "id": "b504902a",
   "metadata": {},
   "outputs": [
    {
     "name": "stdout",
     "output_type": "stream",
     "text": [
      "Isi kolom 'tanggal pembelian':\n",
      "0    2010-01-01\n",
      "1    2010-03-03\n",
      "2    2010-05-01\n",
      "3    2010-05-01\n",
      "4    2010-05-01\n",
      "Name: tanggal pembelian, dtype: object\n"
     ]
    }
   ],
   "source": [
    "print(\"Isi kolom 'tanggal pembelian':\")\n",
    "print(df['tanggal pembelian'].head())  # Menampilkan 5 baris pertama"
   ]
  },
  {
   "cell_type": "markdown",
   "id": "15ac9836",
   "metadata": {},
   "source": [
    "# Menghapus kolom tanggal pembelian"
   ]
  },
  {
   "cell_type": "code",
   "execution_count": 4,
   "id": "e8217bf8",
   "metadata": {},
   "outputs": [],
   "source": [
    "df = df.drop(columns=['tanggal pembelian'])"
   ]
  },
  {
   "cell_type": "markdown",
   "id": "1f295b8d",
   "metadata": {},
   "source": [
    "# Menampilkan dataframe setelah penghapusan kolom"
   ]
  },
  {
   "cell_type": "code",
   "execution_count": 5,
   "id": "4de9e116",
   "metadata": {},
   "outputs": [
    {
     "name": "stdout",
     "output_type": "stream",
     "text": [
      "\n",
      "Data setelah kolom 'tanggal pembelian' dihapus:\n",
      "   transaksi  Aksesoris Buku  Alat Tulis  Buku Anak-Anak  Buku Biografi  \\\n",
      "0          1               0           1               1              0   \n",
      "1          2               0           1               0              0   \n",
      "2          3               1           0               0              1   \n",
      "3          4               0           0               0              0   \n",
      "4          5               0           0               1              0   \n",
      "\n",
      "   Buku Fiksi  Buku Sejarah  Majalah Berita  Majalah Fashion  Majalah Seni  \\\n",
      "0           1             1               1                1             0   \n",
      "1           0             0               0                0             1   \n",
      "2           0             0               1                0             0   \n",
      "3           0             0               1                1             0   \n",
      "4           1             0               0                0             1   \n",
      "\n",
      "   Novel Fiksi Ilmiah  Novel Misteri  Novel Romansa  \n",
      "0                   0              0              1  \n",
      "1                   0              0              0  \n",
      "2                   0              0              1  \n",
      "3                   1              1              0  \n",
      "4                   1              0              0  \n"
     ]
    }
   ],
   "source": [
    "print(\"\\nData setelah kolom 'tanggal pembelian' dihapus:\")\n",
    "print(df.head())"
   ]
  },
  {
   "cell_type": "markdown",
   "id": "4d46f5dc",
   "metadata": {},
   "source": [
    "# Menyimpan hasil ke file"
   ]
  },
  {
   "cell_type": "code",
   "execution_count": 6,
   "id": "b1edd575",
   "metadata": {},
   "outputs": [
    {
     "name": "stdout",
     "output_type": "stream",
     "text": [
      "\n",
      "Dataset transformasi penghapusan tanggal pembelian sudah disimpan sebagai 'DataTransformasiTA_tanpa tanggal.csv'\n"
     ]
    }
   ],
   "source": [
    "df.to_csv('DataTransformasiTA_tanpa_tanggal.csv', index=False)\n",
    "print(\"\\nDataset transformasi penghapusan tanggal pembelian sudah disimpan sebagai 'DataTransformasiTA_tanpa tanggal.csv'\")"
   ]
  },
  {
   "cell_type": "code",
   "execution_count": null,
   "id": "052f70ff",
   "metadata": {},
   "outputs": [],
   "source": []
  }
 ],
 "metadata": {
  "kernelspec": {
   "display_name": "Python 3 (ipykernel)",
   "language": "python",
   "name": "python3"
  },
  "language_info": {
   "codemirror_mode": {
    "name": "ipython",
    "version": 3
   },
   "file_extension": ".py",
   "mimetype": "text/x-python",
   "name": "python",
   "nbconvert_exporter": "python",
   "pygments_lexer": "ipython3",
   "version": "3.10.9"
  }
 },
 "nbformat": 4,
 "nbformat_minor": 5
}
