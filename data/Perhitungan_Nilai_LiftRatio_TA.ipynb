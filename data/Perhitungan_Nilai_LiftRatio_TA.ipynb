{
 "cells": [
  {
   "cell_type": "markdown",
   "id": "05ac0659",
   "metadata": {},
   "source": [
    "# Import library"
   ]
  },
  {
   "cell_type": "code",
   "execution_count": 18,
   "id": "01226882",
   "metadata": {},
   "outputs": [],
   "source": [
    "import pandas as pd"
   ]
  },
  {
   "cell_type": "markdown",
   "id": "7931223c",
   "metadata": {},
   "source": [
    "# Data list itemset"
   ]
  },
  {
   "cell_type": "code",
   "execution_count": 19,
   "id": "e5c735b7",
   "metadata": {},
   "outputs": [],
   "source": [
    "# Data confidence dan support\n",
    "data = {\n",
    "    \"Itemset\": [\n",
    "        \"Aksesoris Buku, Buku Anak-Anak, Alat Tulis\",\n",
    "        \"Majalah Berita, Buku Anak-Anak, Alat Tulis\",\n",
    "        \"Buku Anak-Anak, Buku Sejarah, Alat Tulis\",\n",
    "        \"Buku Biografi, Buku Anak-Anak, Alat Tulis\",\n",
    "        \"Novel Romansa, Buku Anak-Anak, Alat Tulis\",\n",
    "        \"Buku Anak-Anak, Novel Misteri, Alat Tulis\",\n",
    "        \"Majalah Seni, Buku Anak-Anak, Alat Tulis\",\n",
    "        \"Buku Anak-Anak, Buku Fiksi, Alat Tulis\",\n",
    "        \"Majalah Fashion, Buku Anak-Anak, Alat Tulis\",\n",
    "        \"Buku Anak-Anak, Novel Fiksi Ilmiah, Alat Tulis\"\n",
    "    ],\n",
    "    \"Confidence\": [\n",
    "        0.844,\n",
    "        0.835,\n",
    "        0.933,\n",
    "        0.864,\n",
    "        0.871,\n",
    "        0.881,\n",
    "        0.805,\n",
    "        0.878,\n",
    "        0.829,\n",
    "        0.840\n",
    "    ],\n",
    "    \"Support_Alat_Tulis\": [0.586] * 10\n",
    "}"
   ]
  },
  {
   "cell_type": "markdown",
   "id": "081bdeab",
   "metadata": {},
   "source": [
    "# Buat DataFrame"
   ]
  },
  {
   "cell_type": "code",
   "execution_count": 20,
   "id": "df0fda5b",
   "metadata": {},
   "outputs": [],
   "source": [
    "df = pd.DataFrame(data)"
   ]
  },
  {
   "cell_type": "markdown",
   "id": "75c874dd",
   "metadata": {},
   "source": [
    "# Perhitungan LiftRatio"
   ]
  },
  {
   "cell_type": "code",
   "execution_count": 21,
   "id": "746623fe",
   "metadata": {},
   "outputs": [
    {
     "name": "stdout",
     "output_type": "stream",
     "text": [
      "                                          Itemset  Confidence  \\\n",
      "0        Majalah Seni, Buku Anak-Anak, Alat Tulis       0.805   \n",
      "1     Majalah Fashion, Buku Anak-Anak, Alat Tulis       0.829   \n",
      "2      Majalah Berita, Buku Anak-Anak, Alat Tulis       0.835   \n",
      "3  Buku Anak-Anak, Novel Fiksi Ilmiah, Alat Tulis       0.840   \n",
      "4      Aksesoris Buku, Buku Anak-Anak, Alat Tulis       0.844   \n",
      "5       Buku Biografi, Buku Anak-Anak, Alat Tulis       0.864   \n",
      "6       Novel Romansa, Buku Anak-Anak, Alat Tulis       0.871   \n",
      "7          Buku Anak-Anak, Buku Fiksi, Alat Tulis       0.878   \n",
      "8       Buku Anak-Anak, Novel Misteri, Alat Tulis       0.881   \n",
      "9        Buku Anak-Anak, Buku Sejarah, Alat Tulis       0.933   \n",
      "\n",
      "   Support_Alat_Tulis  Lift_Ratio  \n",
      "0               0.586       1.374  \n",
      "1               0.586       1.415  \n",
      "2               0.586       1.425  \n",
      "3               0.586       1.433  \n",
      "4               0.586       1.440  \n",
      "5               0.586       1.474  \n",
      "6               0.586       1.486  \n",
      "7               0.586       1.498  \n",
      "8               0.586       1.503  \n",
      "9               0.586       1.592  \n"
     ]
    }
   ],
   "source": [
    "# Hitung Lift Ratio\n",
    "df[\"Lift_Ratio\"] = df[\"Confidence\"] / df[\"Support_Alat_Tulis\"]\n",
    "\n",
    "# Urutkan hasil dari Lift Ratio terkecil ke terbesar\n",
    "df_sorted = df.sort_values(by=\"Lift_Ratio\", ascending=True).reset_index(drop=True)\n",
    "\n",
    "# Tampilkan hasil\n",
    "pd.set_option(\"display.float_format\", \"{:.3f}\".format)\n",
    "print(df_sorted)"
   ]
  },
  {
   "cell_type": "markdown",
   "id": "c895ef38",
   "metadata": {},
   "source": [
    "# Menyimpan hasil ke file CSV"
   ]
  },
  {
   "cell_type": "code",
   "execution_count": 22,
   "id": "134ddd74",
   "metadata": {},
   "outputs": [
    {
     "name": "stdout",
     "output_type": "stream",
     "text": [
      "\n",
      "Dataset hasil perhitungan nilai lift ratio sudah disimpan sebagai 'Hasil_Nilai_liftRatio.csv.csv'\n"
     ]
    }
   ],
   "source": [
    "df_sorted.to_csv(\"Hasil_Nilai_LiftRatio.csv\", index=False)\n",
    "print(\"\\nDataset hasil perhitungan nilai lift ratio sudah disimpan sebagai 'Hasil_Nilai_liftRatio.csv.csv'\")"
   ]
  },
  {
   "cell_type": "code",
   "execution_count": null,
   "id": "04bb6e3e",
   "metadata": {},
   "outputs": [],
   "source": []
  }
 ],
 "metadata": {
  "kernelspec": {
   "display_name": "Python 3 (ipykernel)",
   "language": "python",
   "name": "python3"
  },
  "language_info": {
   "codemirror_mode": {
    "name": "ipython",
    "version": 3
   },
   "file_extension": ".py",
   "mimetype": "text/x-python",
   "name": "python",
   "nbconvert_exporter": "python",
   "pygments_lexer": "ipython3",
   "version": "3.10.9"
  }
 },
 "nbformat": 4,
 "nbformat_minor": 5
}
